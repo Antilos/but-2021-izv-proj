{
 "metadata": {
  "language_info": {
   "codemirror_mode": {
    "name": "ipython",
    "version": 3
   },
   "file_extension": ".py",
   "mimetype": "text/x-python",
   "name": "python",
   "nbconvert_exporter": "python",
   "pygments_lexer": "ipython3",
   "version": "3.7.4-final"
  },
  "orig_nbformat": 2,
  "kernelspec": {
   "name": "Python 3.7.4 64-bit ('base': conda)",
   "display_name": "Python 3.7.4 64-bit ('base': conda)",
   "metadata": {
    "interpreter": {
     "hash": "4c9c1a1962a0c7cba7be275f395586542171b087b70a7a7e513721bf9f28a780"
    }
   }
  }
 },
 "nbformat": 4,
 "nbformat_minor": 2,
 "cells": [
  {
   "source": [
    "## Bonusový úkol č. 2 - stahování dat z webového zdroje\n",
    "Vytvořte funkci **sync()**, která získá kompletní seznam produktů (tj. včetně dalších stránek) dostupných v kategorii\n",
    "https://www.alza.cz/bezzrcadlovky-bez-objektivu/18863907.htm\n",
    "a u každého produktu zjistí jeho aktuální cenu a stav skladu.\n",
    "Funkce bude uchovávat získané informace a historii změn v relační databázi SQLLite3 obsahující dvě tabulky:  \n",
    "* tabulku `products` a  \n",
    "* tabulku `products_history`.\n",
    "\n",
    "Struktura obou tabulek je shodná a obsahuje následující sloupce:  \n",
    "* `id` TEXT - id produktu, např. OS072i1l1 (viz data-impression-id),  \n",
    "* `url` TEXT - url produktu k kterému se vztahuje cena (pouze část path, viz ukázka na konci),  \n",
    "* `title` TEXT - název produktu,  \n",
    "* `price` DECIMAL - cena produktu s DPH k danému datu,   \n",
    "* `stock_state` TEXT - stav skladu k danému datu,  \n",
    "* `last_update` DATETIME - datum poslední změny hodnot záznamu v UTC  \n",
    "\n",
    "Do tabulky `products_history` zkopírujte záznam z tabulky `products` ve chvíli, kdy se změnil nějaký sledovaný údaj (název, cena nebo stav skladu) a je potřeba aktualizovat data v tabulce `products`. Pozor, jedno `id` může mít více variant `url` s různou cenou. Při opětovném volání funkce **sync()** se prověří existence záznamu v `products`, prověří se shoda hodnot a vždy aktualizuje hodnota `last_update`, aby bylo zřejmé, ke kterému datu je informace platná.\n",
    "\n",
    "**Předpokládaná náročnost**: 1 hodina"
   ],
   "cell_type": "markdown",
   "metadata": {}
  },
  {
   "source": [
    "### Závislosti, načtení knihoven\n",
    "\n",
    "V následující buňce deklarujte všechny závislosti"
   ],
   "cell_type": "markdown",
   "metadata": {}
  },
  {
   "cell_type": "code",
   "execution_count": 2,
   "metadata": {},
   "outputs": [
    {
     "output_type": "stream",
     "name": "stdout",
     "text": [
      "Requirement already satisfied: requests in c:\\users\\jakko\\anaconda3\\lib\\site-packages (2.22.0)\nRequirement already satisfied: requests_cache in c:\\users\\jakko\\anaconda3\\lib\\site-packages (0.5.2)\nRequirement already satisfied: bs4 in c:\\users\\jakko\\anaconda3\\lib\\site-packages (0.0.1)\nRequirement already satisfied: idna<2.9,>=2.5 in c:\\users\\jakko\\anaconda3\\lib\\site-packages (from requests) (2.8)\nRequirement already satisfied: certifi>=2017.4.17 in c:\\users\\jakko\\anaconda3\\lib\\site-packages (from requests) (2020.6.20)\nRequirement already satisfied: urllib3!=1.25.0,!=1.25.1,<1.26,>=1.21.1 in c:\\users\\jakko\\anaconda3\\lib\\site-packages (from requests) (1.25.8)\nRequirement already satisfied: chardet<3.1.0,>=3.0.2 in c:\\users\\jakko\\anaconda3\\lib\\site-packages (from requests) (3.0.4)\nRequirement already satisfied: beautifulsoup4 in c:\\users\\jakko\\anaconda3\\lib\\site-packages (from bs4) (4.8.2)\nRequirement already satisfied: soupsieve>=1.2 in c:\\users\\jakko\\anaconda3\\lib\\site-packages (from beautifulsoup4->bs4) (2.0)\nNote: you may need to restart the kernel to use updated packages.\n"
     ]
    }
   ],
   "source": [
    "%pip install requests requests_cache bs4\n",
    "\n",
    "import requests, requests_cache, sqlite3, random\n",
    "import re, json, datetime\n",
    "from bs4 import BeautifulSoup\n",
    "\n",
    "#pro vývoj je vhodné zapnout cache (viz přednáška), pro finalní otestovaní tento řádek zakomentujte\n",
    "#requests_cache.install_cache('devel') \n",
    "\n",
    "#nadeklarujeme si novy typ sloupce DECIMAL do sqlite3, abychom měli automatický převod mezi SQLite3 a Python\n",
    "from decimal import Decimal\n",
    "sqlite3.register_adapter(Decimal, lambda d: str(d))\n",
    "sqlite3.register_converter(\"DECIMAL\", lambda s: Decimal(s.decode('ascii')))"
   ]
  },
  {
   "source": [
    "### Deklarace funkce\n",
    "\n",
    "V následujícím boxu definujte funkci **sync(name)** s jedním parametrem (název souboru s DB), která provede zadanou operaci. \n",
    "Pro přístup k DB lze s ohledem na složitost zadání použít přímo funkcionalitu vestavěného modulu sqlite3 (viz https://docs.python.org/2/library/sqlite3.html).\n",
    "\n",
    "**TIP**: pro získání seznamu všech produktů lze použít endpoint https://www.alza.cz/Services/EShopService.svc/Filter\n",
    "\n",
    "Mohlo by se také hodit: https://curl.trillworks.com/"
   ],
   "cell_type": "markdown",
   "metadata": {}
  },
  {
   "cell_type": "code",
   "execution_count": 17,
   "metadata": {},
   "outputs": [],
   "source": [
    "# V tomto boxu pouze implementujte funkci ale nevolejte ji (pro vývoj si vytvořte vlastní buňky).\n",
    "# nezapomeňte na cookies a hlavičky, jinak se Vám může zobrazit otázka \"nejste robot?\"\n",
    "\n",
    "#get boxes from endpoint\n",
    "def getBoxes(s):\n",
    "    \"\"\"\n",
    "    Get boxes from endpoint\n",
    "\n",
    "    Parameters\n",
    "    ----------\n",
    "    s:\n",
    "        requests session\n",
    "\n",
    "    Returns\n",
    "    -------\n",
    "    str:\n",
    "        html with boxes from alza\n",
    "    \"\"\"\n",
    "    headers = {\n",
    "        'authority': 'www.alza.cz',\n",
    "        'dnt': '1',\n",
    "        'accept-language': 'cs-CZ',\n",
    "        'user-agent': 'Mozilla/5.0 (Windows NT 10.0; Win64; x64) AppleWebKit/537.36 (KHTML, like Gecko) Chrome/86.0.4240.75 Safari/537.36',\n",
    "        'content-type': 'application/json; charset=UTF-8',\n",
    "        'accept': 'application/json, text/javascript, */*; q=0.01',\n",
    "        'cache-control': 'no-cache',\n",
    "        'x-requested-with': 'XMLHttpRequest',\n",
    "        'request-id': '|a997512e379f4357a649b54cb75c3b15.3fb610ee47e0443e',\n",
    "        'origin': 'https://www.alza.cz',\n",
    "        'sec-fetch-site': 'same-origin',\n",
    "        'sec-fetch-mode': 'cors',\n",
    "        'sec-fetch-dest': 'empty',\n",
    "        'referer': 'https://www.alza.cz/bezzrcadlovky-bez-objektivu/18863907.htm',\n",
    "        'cookie': '__uzma=13b1dde2-65a0-4ed1-b157-ef44695b964a; __uzmb=1602681498; __uzme=1991; lb_id=3dff50518ae596801084d72f0631899f; VZTX=2736279313; CCC=18863907; CriticalCSS=6858194; .AspNetCore.Culture=c%3Dcs-CZ%7Cuic%3Dcs-CZ; ai_user=gTrHEsE2aCBUi9cIZo0029|2020-10-14T13:18:17.264Z; _vwo_uuid_v2=D5BB76F154E337D53FC2D31085DC2FAF2|3cdf93c7b9e3c04746c668405e65a40c; __ssds=2; __ssuzjsr2=a9be0cd8e; __uzmbj2=1602681499; __uzmaj2=ca7c7cba-1334-4874-854c-8c618c4bfbe6; _gid=GA1.2.1169509407.1602681499; _gcl_au=1.1.394470555.1602681500; _fbp=fb.1.1602681501926.1641455788; db_ui=214d939e-31ac-32c8-2152-b8247fd79061; _hjid=ae43759a-6eb8-4351-8b53-c72061a366f1; db_uicd=8d4d7096-845d-9a67-60b3-6a23504dae96; SL_C_23361dd035530_KEY=b0375d591e85b0affec1d581bfed3c760cb8c56d; SL_C_23361dd035530_VID=Gk0LFsie0Hn; SL_C_23361dd035530_SID=8fTmbpNkJsm; TPL=1; PVCFLP=6; ai_session=f72wAyPMQH3r7oqKe/hcsu|1602681497653|1602684437193; __uzmdj2=1602684438; __uzmcj2=606872525505; i18next=cs-CZ; _gat=1; __uzmd=1602684439; __uzmc=844786736559; _gat_UA-948269-48=1; _dc_gtm_UA-948269-48=1; _ga=GA1.1.1545458139.1602681499; _ga_FGLGFS7LP0=GS1.1.1602684342.2.1.1602684481.17; sc/bezzrcadlovky-bez-objektivu/18863907.htm=5500',\n",
    "    }\n",
    "\n",
    "    data = '{\"idCategory\":18863907,\"producers\":\"\",\"parameters\":[],\"idPrefix\":0,\"prefixType\":0,\"page\":1,\"pageTo\":4,\"inStock\":false,\"newsOnly\":false,\"commodityStatusType\":null,\"upperDescriptionStatus\":0,\"branchId\":-2,\"sort\":0,\"categoryType\":1,\"searchTerm\":\"\",\"sendProducers\":false,\"layout\":0,\"append\":false,\"leasingCatId\":null,\"yearFrom\":null,\"yearTo\":null,\"artistId\":null,\"minPrice\":-1,\"maxPrice\":-1,\"shouldDisplayVirtooal\":false,\"callFromParametrizationDialog\":false,\"commodityWearType\":null,\"scroll\":5500,\"hash\":\"#f&cst=null&cud=0&pg=1-2&prod=\",\"counter\":1}'\n",
    "\n",
    "    r = s.post('https://www.alza.cz/Services/EShopService.svc/Filter', headers=headers, data=data)\n",
    "\n",
    "    if(not r.ok):\n",
    "        r.raise_for_status()\n",
    "    else:\n",
    "        return r.json()['d']['Boxes']\n",
    "\n",
    "#get data from boxes\n",
    "def getProductsDataFromBoxes(boxes):\n",
    "    \"\"\"\n",
    "    Parameters\n",
    "    ----------\n",
    "    boxes: str\n",
    "        html with products from alza\n",
    "    \n",
    "    Returns\n",
    "    -------\n",
    "    map\n",
    "        map iterable of tuples containing data for every product in this order: (id, url, title, price, stock_state, datetime)\n",
    "    \"\"\"\n",
    "    soup = BeautifulSoup(boxes, 'html.parser')\n",
    "    products = soup.find_all(\"div\", attrs={\"class\":\"fb\"})\n",
    "\n",
    "    def getData(i):\n",
    "        link = i.find(\"a\", attrs={\"data-impression-id\":True})\n",
    "\n",
    "        prodId = link.get('data-impression-id')\n",
    "        prodTitle = link.get('data-impression-name')\n",
    "        prodUrl = link.get('href')\n",
    "\n",
    "        bottom = i.parent.parent.find(\"div\", attrs={\"class\":\"bottom\"})\n",
    "        try:\n",
    "            prodPrice = re.sub(r'\\D', '', bottom.find(\"span\", attrs={\"class\":\"c2\"}).get_text()) #assuming no decimal values (reasonable in czk)\n",
    "        except:\n",
    "            prodPrice = 0\n",
    "        prodStock = i.parent.parent.find(\"div\", attrs={\"class\":\"bottom\"}).find(\"div\", attrs={\"class\":[\"avl\",\"avl extended\"]}).find(\"span\").get_text()\n",
    "        return (prodId, prodUrl, prodTitle, prodPrice, prodStock, datetime.datetime.now())\n",
    "    \n",
    "    return map(getData, products)\n",
    "\n",
    "def sync(dbfile='data.sqlite'):\n",
    "    with sqlite3.connect(dbfile, detect_types=sqlite3.PARSE_DECLTYPES) as conn:\n",
    "        c = conn.cursor()\n",
    "        c.execute('''CREATE TABLE IF NOT EXISTS products\n",
    "                  (id TEXT, url TEXT, title TEXT, price DECIMAL, stock_state TEXT, last_update DATETIME, PRIMARY KEY(id,url))''')\n",
    "        \n",
    "        c.execute('''CREATE TABLE IF NOT EXISTS products_history\n",
    "                  (id TEXT, url TEXT, title TEXT, price DECIMAL, stock_state TEXT, last_update DATETIME)''')\n",
    "\n",
    "        c.execute('''CREATE INDEX IF NOT EXISTS idx_id ON products (id)''')\n",
    "        c.execute('''CREATE INDEX IF NOT EXISTS idx_idurl ON products_history (id, url)''')\n",
    "\n",
    "        s = requests.session()\n",
    "        \n",
    "        #zde dopiste kod, predpokladana delka cca 50 radku\n",
    "        boxes = getBoxes(s)\n",
    "        data = getProductsDataFromBoxes(boxes) #(id, url, title, price, stock_state, last_update)\n",
    "        for d in data:\n",
    "            c.execute('''SELECT * FROM products WHERE id=? AND url=?''', (d[0], d[1]))\n",
    "            row = c.fetchone()\n",
    "            if(row):\n",
    "                if(row[2] != d[2] or row[3] != d[3] or row[4] != d[4]):\n",
    "                    c.execute('''INSERT INTO products_history VALUES (?, ?, ?, ?, ?, ?)''', row)\n",
    "                    c.execute('''UPDATE products SET title=?, price=?, stock_state=?, last_update=? WHERE id=? AND url=?''', (d[2], d[3], d[4], d[5], d[0], d[1]))\n",
    "                else:\n",
    "                    c.execute('''UPDATE products SET last_update=? WHERE id=? AND url=?''', (d[5], d[0], d[1]))\n",
    "            else:\n",
    "                c.execute('''INSERT INTO products VALUES (?, ?, ?, ?, ?, ?)''', d)\n",
    "\n",
    "        conn.commit()        \n",
    "        c.close()"
   ]
  },
  {
   "source": [
    "### Ověření korektní funkce\n",
    "\n",
    "Na následujícím kódu lze ověřit základní funkcionalitu. Měly byste dostat stejný výstup jako je v ukázce. Protože se však stav e-shopu může měnit, uzpůsobte si eventuelně dotaz dle potřeb. Momentálně se testuje existence produktu https://www.alza.cz/sony-alpha-7ii?dq=2286288 ev. \n",
    "https://www.alza.cz/kod/OS072i1p5.\n",
    "\n",
    "Při ověřování korektní funkce Vaší implementace bude porovnán obsah DB vytvořený Vaší funkcí s předpokládaným obsahem DB v určitou dobu a poté znovu s několika hodinovým odstupem."
   ],
   "cell_type": "markdown",
   "metadata": {}
  },
  {
   "cell_type": "code",
   "execution_count": 18,
   "metadata": {},
   "outputs": [
    {
     "output_type": "stream",
     "name": "stdout",
     "text": [
      "('OS072i1p5', '/sony-alpha-7ii?dq=2286288', Decimal('31490'))\n[('OF7032a', '/fujifilm-x-t3?dq=5457426', Decimal('39990')), ('OF7032a', '/fujifilm-x-t3-telo-cerny-levne-d5754350.htm', Decimal('36990')), ('OF7032a', '/fujifilm-x-t3-telo-cerny-sleva-d5877920.htm', Decimal('33990'))]\nOK\n"
     ]
    }
   ],
   "source": [
    "from contextlib import closing\n",
    "\n",
    "sync('data.sqlite')\n",
    "\n",
    "with sqlite3.connect('data.sqlite', detect_types=sqlite3.PARSE_DECLTYPES) as conn:\n",
    "    with closing(conn.cursor()) as c:\n",
    "        c.execute('SELECT id, url, price FROM products WHERE id=? AND url=? AND price>20000', ('OS072i1p5','/sony-alpha-7ii?dq=2286288'))\n",
    "        r = c.fetchone()\n",
    "        print(r)\n",
    "        assert(r != None)\n",
    "\n",
    "        c.execute('SELECT id, url, price FROM products WHERE id=? AND price>30000', ('OF7032a',))\n",
    "        r = c.fetchall()\n",
    "        print(r)\n",
    "        assert (len(r)>0 and '/fujifilm-x-t3?dq=5457426' in [a[1] for a in r])\n",
    "\n",
    "print(\"OK\")        "
   ]
  },
  {
   "source": [
    "### Komentář\n",
    "Do pole níže můžete vložit textový komentář týkající se tohoto úkolu. Např. jak dlouho Vám trvalo řešení, co bylo obtížné, co bylo se mělo více v rámci přenášky vysvětlit apod."
   ],
   "cell_type": "markdown",
   "metadata": {}
  },
  {
   "source": [
    "n/a"
   ],
   "cell_type": "markdown",
   "metadata": {}
  }
 ]
}