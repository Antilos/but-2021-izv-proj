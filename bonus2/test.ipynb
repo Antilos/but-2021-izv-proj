{
 "metadata": {
  "language_info": {
   "codemirror_mode": {
    "name": "ipython",
    "version": 3
   },
   "file_extension": ".py",
   "mimetype": "text/x-python",
   "name": "python",
   "nbconvert_exporter": "python",
   "pygments_lexer": "ipython3",
   "version": "3.7.4-final"
  },
  "orig_nbformat": 2,
  "kernelspec": {
   "name": "Python 3.7.4 64-bit ('base': conda)",
   "display_name": "Python 3.7.4 64-bit ('base': conda)",
   "metadata": {
    "interpreter": {
     "hash": "4c9c1a1962a0c7cba7be275f395586542171b087b70a7a7e513721bf9f28a780"
    }
   }
  }
 },
 "nbformat": 4,
 "nbformat_minor": 2,
 "cells": [
  {
   "cell_type": "code",
   "execution_count": 2,
   "metadata": {},
   "outputs": [],
   "source": [
    "import requests\n",
    "import json\n",
    "from bs4 import BeautifulSoup"
   ]
  },
  {
   "cell_type": "code",
   "execution_count": 3,
   "metadata": {},
   "outputs": [],
   "source": [
    "import requests\n",
    "\n",
    "headers = {\n",
    "    'authority': 'www.alza.cz',\n",
    "    'dnt': '1',\n",
    "    'accept-language': 'cs-CZ',\n",
    "    'user-agent': 'Mozilla/5.0 (Windows NT 10.0; Win64; x64) AppleWebKit/537.36 (KHTML, like Gecko) Chrome/86.0.4240.75 Safari/537.36',\n",
    "    'content-type': 'application/json; charset=UTF-8',\n",
    "    'accept': 'application/json, text/javascript, */*; q=0.01',\n",
    "    'cache-control': 'no-cache',\n",
    "    'x-requested-with': 'XMLHttpRequest',\n",
    "    'request-id': '|a997512e379f4357a649b54cb75c3b15.3fb610ee47e0443e',\n",
    "    'origin': 'https://www.alza.cz',\n",
    "    'sec-fetch-site': 'same-origin',\n",
    "    'sec-fetch-mode': 'cors',\n",
    "    'sec-fetch-dest': 'empty',\n",
    "    'referer': 'https://www.alza.cz/bezzrcadlovky-bez-objektivu/18863907.htm',\n",
    "    'cookie': '__uzma=13b1dde2-65a0-4ed1-b157-ef44695b964a; __uzmb=1602681498; __uzme=1991; lb_id=3dff50518ae596801084d72f0631899f; VZTX=2736279313; CCC=18863907; CriticalCSS=6858194; .AspNetCore.Culture=c%3Dcs-CZ%7Cuic%3Dcs-CZ; ai_user=gTrHEsE2aCBUi9cIZo0029|2020-10-14T13:18:17.264Z; _vwo_uuid_v2=D5BB76F154E337D53FC2D31085DC2FAF2|3cdf93c7b9e3c04746c668405e65a40c; __ssds=2; __ssuzjsr2=a9be0cd8e; __uzmbj2=1602681499; __uzmaj2=ca7c7cba-1334-4874-854c-8c618c4bfbe6; _gid=GA1.2.1169509407.1602681499; _gcl_au=1.1.394470555.1602681500; _fbp=fb.1.1602681501926.1641455788; db_ui=214d939e-31ac-32c8-2152-b8247fd79061; _hjid=ae43759a-6eb8-4351-8b53-c72061a366f1; db_uicd=8d4d7096-845d-9a67-60b3-6a23504dae96; SL_C_23361dd035530_KEY=b0375d591e85b0affec1d581bfed3c760cb8c56d; SL_C_23361dd035530_VID=Gk0LFsie0Hn; SL_C_23361dd035530_SID=8fTmbpNkJsm; TPL=1; PVCFLP=6; ai_session=f72wAyPMQH3r7oqKe/hcsu|1602681497653|1602684437193; __uzmdj2=1602684438; __uzmcj2=606872525505; i18next=cs-CZ; _gat=1; __uzmd=1602684439; __uzmc=844786736559; _gat_UA-948269-48=1; _dc_gtm_UA-948269-48=1; _ga=GA1.1.1545458139.1602681499; _ga_FGLGFS7LP0=GS1.1.1602684342.2.1.1602684481.17; sc/bezzrcadlovky-bez-objektivu/18863907.htm=5500',\n",
    "}\n",
    "\n",
    "data = '{\"idCategory\":18863907,\"producers\":\"\",\"parameters\":[],\"idPrefix\":0,\"prefixType\":0,\"page\":1,\"pageTo\":2,\"inStock\":false,\"newsOnly\":false,\"commodityStatusType\":null,\"upperDescriptionStatus\":0,\"branchId\":-2,\"sort\":0,\"categoryType\":1,\"searchTerm\":\"\",\"sendProducers\":false,\"layout\":0,\"append\":true,\"leasingCatId\":null,\"yearFrom\":null,\"yearTo\":null,\"artistId\":null,\"minPrice\":-1,\"maxPrice\":-1,\"shouldDisplayVirtooal\":false,\"callFromParametrizationDialog\":false,\"commodityWearType\":null,\"scroll\":5500,\"hash\":\"#f&cst=null&cud=0&pg=1-2&prod=\",\"counter\":1}'\n",
    "\n",
    "r = requests.post('https://www.alza.cz/Services/EShopService.svc/Filter', headers=headers, data=data)\n"
   ]
  },
  {
   "cell_type": "code",
   "execution_count": 4,
   "metadata": {
    "tags": []
   },
   "outputs": [
    {
     "output_type": "stream",
     "name": "stdout",
     "text": [
      "__type <class 'str'>\nBestCount <class 'int'>\nBestsellers <class 'NoneType'>\nBotInfo <class 'NoneType'>\nBoxes <class 'str'>\nBoxesGbb <class 'str'>\nCodes <class 'NoneType'>\nCount <class 'int'>\nCounter <class 'int'>\nDisplayCount <class 'int'>\nMoreUrl <class 'str'>\nPage <class 'int'>\nPagerBottom <class 'str'>\nPagerTop <class 'str'>\nParameters <class 'list'>\nParametersInfo <class 'list'>\nParamsShowItemsText <class 'str'>\nProducerList <class 'NoneType'>\nProducers <class 'list'>\nProducersCount <class 'list'>\nProducersInfo <class 'list'>\nSeoData <class 'NoneType'>\nTabMaxSlide <class 'dict'>\nTabMaxSlideBlock <class 'dict'>\nWearType <class 'int'>\n"
     ]
    }
   ],
   "source": [
    "if(not r.ok):\n",
    "    r.raise_for_status()\n",
    "else:\n",
    "    content = r.json()\n",
    "    for i, (key, val) in enumerate(content['d'].items()):\n",
    "        print(f\"{key} {type(content['d'][key])}\")"
   ]
  },
  {
   "cell_type": "code",
   "execution_count": 5,
   "metadata": {},
   "outputs": [
    {
     "output_type": "error",
     "ename": "SyntaxError",
     "evalue": "unexpected EOF while parsing (<ipython-input-5-99c89799b894>, line 3)",
     "traceback": [
      "\u001b[1;36m  File \u001b[1;32m\"<ipython-input-5-99c89799b894>\"\u001b[1;36m, line \u001b[1;32m3\u001b[0m\n\u001b[1;33m    \u001b[0m\n\u001b[1;37m    ^\u001b[0m\n\u001b[1;31mSyntaxError\u001b[0m\u001b[1;31m:\u001b[0m unexpected EOF while parsing\n"
     ]
    }
   ],
   "source": [
    "class product():\n",
    "    def __init__(self):\n",
    "        "
   ]
  },
  {
   "cell_type": "code",
   "execution_count": 1,
   "metadata": {
    "tags": []
   },
   "outputs": [
    {
     "output_type": "error",
     "ename": "NameError",
     "evalue": "name 'BeautifulSoup' is not defined",
     "traceback": [
      "\u001b[1;31m---------------------------------------------------------------------------\u001b[0m",
      "\u001b[1;31mNameError\u001b[0m                                 Traceback (most recent call last)",
      "\u001b[1;32m<ipython-input-1-a246d0a6d5fc>\u001b[0m in \u001b[0;36m<module>\u001b[1;34m\u001b[0m\n\u001b[0;32m      2\u001b[0m \u001b[1;31m#print(json.dumps(content['d']['Parameters'], indent=4))\u001b[0m\u001b[1;33m\u001b[0m\u001b[1;33m\u001b[0m\u001b[1;33m\u001b[0m\u001b[0m\n\u001b[0;32m      3\u001b[0m \u001b[1;31m#print(content['d']['Boxes'])\u001b[0m\u001b[1;33m\u001b[0m\u001b[1;33m\u001b[0m\u001b[1;33m\u001b[0m\u001b[0m\n\u001b[1;32m----> 4\u001b[1;33m \u001b[0msoup\u001b[0m \u001b[1;33m=\u001b[0m \u001b[0mBeautifulSoup\u001b[0m\u001b[1;33m(\u001b[0m\u001b[0mcontent\u001b[0m\u001b[1;33m[\u001b[0m\u001b[1;34m'd'\u001b[0m\u001b[1;33m]\u001b[0m\u001b[1;33m[\u001b[0m\u001b[1;34m'Boxes'\u001b[0m\u001b[1;33m]\u001b[0m\u001b[1;33m,\u001b[0m \u001b[1;34m'html.parser'\u001b[0m\u001b[1;33m)\u001b[0m\u001b[1;33m\u001b[0m\u001b[1;33m\u001b[0m\u001b[0m\n\u001b[0m\u001b[0;32m      5\u001b[0m \u001b[1;32mfor\u001b[0m \u001b[0mfoo\u001b[0m \u001b[1;32min\u001b[0m \u001b[0minspect\u001b[0m\u001b[1;33m.\u001b[0m\u001b[0mgetmembers\u001b[0m\u001b[1;33m(\u001b[0m\u001b[0mtype\u001b[0m\u001b[1;33m(\u001b[0m\u001b[0msoup\u001b[0m\u001b[1;33m.\u001b[0m\u001b[0mfind_all\u001b[0m\u001b[1;33m(\u001b[0m\u001b[0mattrs\u001b[0m\u001b[1;33m=\u001b[0m\u001b[1;33m{\u001b[0m\u001b[1;34m\"data-impression-id\"\u001b[0m\u001b[1;33m:\u001b[0m\u001b[1;32mTrue\u001b[0m\u001b[1;33m}\u001b[0m\u001b[1;33m)\u001b[0m\u001b[1;33m[\u001b[0m\u001b[1;36m0\u001b[0m\u001b[1;33m]\u001b[0m\u001b[1;33m)\u001b[0m\u001b[1;33m)\u001b[0m\u001b[1;33m:\u001b[0m\u001b[1;33m\u001b[0m\u001b[1;33m\u001b[0m\u001b[0m\n\u001b[0;32m      6\u001b[0m     \u001b[0mprint\u001b[0m\u001b[1;33m(\u001b[0m\u001b[0mfoo\u001b[0m\u001b[1;33m[\u001b[0m\u001b[1;36m0\u001b[0m\u001b[1;33m]\u001b[0m\u001b[1;33m)\u001b[0m\u001b[1;33m\u001b[0m\u001b[1;33m\u001b[0m\u001b[0m\n",
      "\u001b[1;31mNameError\u001b[0m: name 'BeautifulSoup' is not defined"
     ]
    }
   ],
   "source": [
    "import inspect\n",
    "#print(json.dumps(content['d']['Parameters'], indent=4))\n",
    "#print(content['d']['Boxes'])\n",
    "soup = BeautifulSoup(content['d']['Boxes'], 'html.parser')\n",
    "for foo in inspect.getmembers(type(soup.find_all(attrs={\"data-impression-id\":True})[0])):\n",
    "    print(foo[0])\n",
    "\n",
    "soup.find_all(attrs={\"data-impression-id\":True})[0]"
   ]
  },
  {
   "cell_type": "code",
   "execution_count": 137,
   "metadata": {
    "tags": []
   },
   "outputs": [
    {
     "output_type": "stream",
     "name": "stdout",
     "text": [
      "366.53\n"
     ]
    }
   ],
   "source": [
    "import re\n",
    "\n",
    "soup = BeautifulSoup(content['d']['Boxes'], 'html.parser')\n",
    "href = soup.find_all(attrs={\"data-impression-id\":True})[1].get('href')\n",
    "r = requests.get(f\"https://www.alza.sk{href}\")\n",
    "soup2 = BeautifulSoup(r.content, \"html.parser\")\n",
    "scriptText = soup2.find(\"div\", attrs={\"class\":\"detail-page articleLab\"}).find('script').get_text()\n",
    "data = re.search(r'var dataLayer = (\\[.*?\\]);',soup2.find(\"div\", attrs={\"class\":\"detail-page articleLab\"}).find('script').get_text()).group(1)\n",
    "#print(data)\n",
    "j = json.loads(data)\n",
    "print(j[0][\"itemPrice\"])"
   ]
  },
  {
   "cell_type": "code",
   "execution_count": null,
   "metadata": {},
   "outputs": [],
   "source": []
  }
 ]
}