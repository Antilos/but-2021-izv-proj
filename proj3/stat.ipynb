{
 "metadata": {
  "language_info": {
   "codemirror_mode": {
    "name": "ipython",
    "version": 3
   },
   "file_extension": ".py",
   "mimetype": "text/x-python",
   "name": "python",
   "nbconvert_exporter": "python",
   "pygments_lexer": "ipython3",
   "version": "3.8.5-final"
  },
  "orig_nbformat": 2,
  "kernelspec": {
   "name": "python3",
   "display_name": "Python 3.8.5 64-bit ('izv': conda)",
   "metadata": {
    "interpreter": {
     "hash": "e84fe6322d6245f4f79f2daa06149aa818816d1a57ed4ec005e8a34beed5997e"
    }
   }
  }
 },
 "nbformat": 4,
 "nbformat_minor": 2,
 "cells": [
  {
   "source": [
    "Hypotesis: Pokud viník nehody byl pod silným vlivem alkoholu, došlo častěji k těžkým zdravotním následkům"
   ],
   "cell_type": "markdown",
   "metadata": {}
  },
  {
   "cell_type": "code",
   "execution_count": 1,
   "metadata": {},
   "outputs": [],
   "source": [
    "import pandas as pd\n",
    "import numpy as np\n",
    "from scipy.stats import chi2_contingency"
   ]
  },
  {
   "source": [
    "Clean the dataset and prepare the contingency table\n",
    "\n",
    "The offender is considered heavily drunk if p11 >= 7  \n",
    "The accident is considered to have serious consequences if p13a+p13b > 0 (death or heavy injuries)  \n",
    "We don't consider accidents where non-alcohol drugs were used (p11 == 4 & p11 == 5)\n",
    "\n",
    "Data is in: accidents.pkl.gz"
   ],
   "cell_type": "markdown",
   "metadata": {}
  },
  {
   "cell_type": "code",
   "execution_count": 2,
   "metadata": {},
   "outputs": [],
   "source": [
    "#get the data\n",
    "df = pd.read_pickle(\"accidents.pkl\")\n",
    "\n",
    "#drop non-alcohol drug use (p11 == 4 & p11 == 5)\n",
    "#df = df[df[\"p11\"] != 4 and df[\"p11\"] != 5]\n",
    "df = df[df[\"p11\"] != 4]\n",
    "df = df[df[\"p11\"] != 5]\n",
    "\n",
    "#get relevant data (alcohol use and accident seriousness)\n",
    "df[\"alcohol_use\"] = df.apply(lambda row : row['p11'] >= 7, axis=1)\n",
    "df[\"accident_seriousness\"] = df.apply(lambda row : (row['p13a']+row['p13b']) > 0, axis=1)\n",
    "\n",
    "#compute contingency table\n",
    "cross = pd.crosstab(index=df[\"alcohol_use\"], columns=df[\"accident_seriousness\"])"
   ]
  },
  {
   "source": [
    "Compute the test statistic using Paerson's chi-squared test\n",
    "\n",
    "If the p-value is strictly lower than the value of alpha (the probability of erroneously rejecting the null hypothesis when it is true), then the variables are dependent."
   ],
   "cell_type": "markdown",
   "metadata": {}
  },
  {
   "cell_type": "code",
   "execution_count": 3,
   "metadata": {},
   "outputs": [
    {
     "output_type": "stream",
     "name": "stdout",
     "text": [
      "p=2.0971505700338304e-123\nDependent\n"
     ]
    }
   ],
   "source": [
    "alpha = 0.05\n",
    "\n",
    "stat, p, dof, expected = chi2_contingency(cross)\n",
    "print(f\"{p=}\")\n",
    "\n",
    "if p <= alpha:\n",
    "    print('Dependent')\n",
    "else:\n",
    "    print('Independent')"
   ]
  }
 ]
}